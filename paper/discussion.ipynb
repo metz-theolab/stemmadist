{
 "cells": [
  {
   "cell_type": "markdown",
   "metadata": {},
   "source": [
    "# Computed scores for the section on the role of the stemma codicum"
   ]
  },
  {
   "cell_type": "code",
   "execution_count": 2,
   "metadata": {},
   "outputs": [],
   "source": [
    "from stemmadist.utils.utils import load_tree"
   ]
  },
  {
   "cell_type": "markdown",
   "metadata": {},
   "source": [
    "## Define the different trees as the Newick format"
   ]
  },
  {
   "cell_type": "code",
   "execution_count": 6,
   "metadata": {},
   "outputs": [
    {
     "name": "stdout",
     "output_type": "stream",
     "text": [
      "        ┌─F\n",
      "    ┌─C─┤\n",
      "    │   └─E\n",
      "──A─┤\n",
      "    │   ┌─D\n",
      "    └─B─┤\n",
      "        └─H\n"
     ]
    }
   ],
   "source": [
    "#stemma_ref = \"((F,(X, Y)E)C,(D,(W, Z)H)B)A;\"\n",
    "stemma_ref = \"((F,E)C,(D,H)B)A;\"\n",
    "\n",
    "print(load_tree(stemma_ref).ascii_art())"
   ]
  },
  {
   "cell_type": "code",
   "execution_count": 7,
   "metadata": {},
   "outputs": [
    {
     "name": "stdout",
     "output_type": "stream",
     "text": [
      "        ┌─F\n",
      "    ┌─B─┤\n",
      "    │   └─E\n",
      "──A─┤\n",
      "    │   ┌─D\n",
      "    └─C─┤\n",
      "        └─H\n"
     ]
    }
   ],
   "source": [
    "stemma_1 = \"((F,E)B,(D,H)C)A;\"\n",
    "print(load_tree(stemma_1).ascii_art())"
   ]
  },
  {
   "cell_type": "code",
   "execution_count": 8,
   "metadata": {},
   "outputs": [
    {
     "name": "stdout",
     "output_type": "stream",
     "text": [
      "        ┌─E\n",
      "    ┌─F─┤\n",
      "    │   └─C\n",
      "──A─┤\n",
      "    │   ┌─H\n",
      "    └─D─┤\n",
      "        └─B\n"
     ]
    }
   ],
   "source": [
    "stemma_2 = \"((E,C)F,(H,B)D)A;\"\n",
    "\n",
    "print(load_tree(stemma_2).ascii_art())"
   ]
  },
  {
   "cell_type": "markdown",
   "metadata": {},
   "source": [
    "## Compute the different scores between the stemma (matrix)"
   ]
  },
  {
   "cell_type": "code",
   "execution_count": 9,
   "metadata": {},
   "outputs": [],
   "source": [
    "from stemmadist.main import compute_distance, AVAILABLE_DISTANCES"
   ]
  },
  {
   "cell_type": "code",
   "execution_count": 11,
   "metadata": {},
   "outputs": [
    {
     "name": "stdout",
     "output_type": "stream",
     "text": [
      "Stemma\n",
      "1\n",
      "rf\n",
      "2.0\n",
      "Stemma\n",
      "2\n",
      "rf\n",
      "0.0\n",
      "Stemma\n",
      "1\n",
      "adjacency_matrix\n",
      "0.5714285714285714\n",
      "Stemma\n",
      "2\n",
      "adjacency_matrix\n",
      "0.5714285714285714\n",
      "Stemma\n",
      "1\n",
      "graph_edit_distance\n",
      "1.0\n",
      "Stemma\n",
      "2\n",
      "graph_edit_distance\n",
      "3.0\n",
      "Stemma\n",
      "1\n",
      "signed_similarity\n",
      "0.34285714285714286\n",
      "Stemma\n",
      "2\n",
      "signed_similarity\n",
      "0.34285714285714286\n"
     ]
    }
   ],
   "source": [
    "distances = {}\n",
    "for distance in AVAILABLE_DISTANCES:\n",
    "    if distance not in [\"matching_split\", \"rf_jaccard\"]:\n",
    "        distances[distance] = {}\n",
    "        for ix, stemma in enumerate([stemma_1, stemma_2]):\n",
    "            print(\"Stemma\")\n",
    "            print(ix + 1)\n",
    "            print(distance)\n",
    "            print(compute_distance(stemma_ref, stemma, distance_name=distance))\n",
    "            distances[distance][\"id\"+str(ix+1)] = compute_distance(stemma_ref, stemma, distance_name=distance)\n",
    "\n"
   ]
  },
  {
   "cell_type": "code",
   "execution_count": 12,
   "metadata": {},
   "outputs": [
    {
     "data": {
      "text/html": [
       "<div>\n",
       "<style scoped>\n",
       "    .dataframe tbody tr th:only-of-type {\n",
       "        vertical-align: middle;\n",
       "    }\n",
       "\n",
       "    .dataframe tbody tr th {\n",
       "        vertical-align: top;\n",
       "    }\n",
       "\n",
       "    .dataframe thead th {\n",
       "        text-align: right;\n",
       "    }\n",
       "</style>\n",
       "<table border=\"1\" class=\"dataframe\">\n",
       "  <thead>\n",
       "    <tr style=\"text-align: right;\">\n",
       "      <th></th>\n",
       "      <th>rf</th>\n",
       "      <th>adjacency_matrix</th>\n",
       "      <th>graph_edit_distance</th>\n",
       "      <th>signed_similarity</th>\n",
       "    </tr>\n",
       "  </thead>\n",
       "  <tbody>\n",
       "    <tr>\n",
       "      <th>id1</th>\n",
       "      <td>2.0</td>\n",
       "      <td>0.571429</td>\n",
       "      <td>1.0</td>\n",
       "      <td>0.342857</td>\n",
       "    </tr>\n",
       "    <tr>\n",
       "      <th>id2</th>\n",
       "      <td>0.0</td>\n",
       "      <td>0.571429</td>\n",
       "      <td>3.0</td>\n",
       "      <td>0.342857</td>\n",
       "    </tr>\n",
       "  </tbody>\n",
       "</table>\n",
       "</div>"
      ],
      "text/plain": [
       "      rf  adjacency_matrix  graph_edit_distance  signed_similarity\n",
       "id1  2.0          0.571429                  1.0           0.342857\n",
       "id2  0.0          0.571429                  3.0           0.342857"
      ]
     },
     "execution_count": 12,
     "metadata": {},
     "output_type": "execute_result"
    }
   ],
   "source": [
    "import pandas as pd\n",
    "\n",
    "\n",
    "distance_scores = pd.DataFrame(distances)\n",
    "\n",
    "distance_scores"
   ]
  },
  {
   "cell_type": "code",
   "execution_count": 13,
   "metadata": {},
   "outputs": [
    {
     "name": "stdout",
     "output_type": "stream",
     "text": [
      "\\begin{tabular}{lrrrr}\n",
      "\\toprule\n",
      " & rf & adjacency_matrix & graph_edit_distance & signed_similarity \\\\\n",
      "\\midrule\n",
      "id1 & 2 & 1 & 1 & 1 \\\\\n",
      "id2 & 1 & 1 & 2 & 1 \\\\\n",
      "\\bottomrule\n",
      "\\end{tabular}\n",
      "\n"
     ]
    }
   ],
   "source": [
    "print(distance_scores.iloc[:,:].assign(**distance_scores.iloc[:,:].rank(axis = 0, ascending = True).astype(int)).to_latex())"
   ]
  },
  {
   "cell_type": "code",
   "execution_count": null,
   "metadata": {},
   "outputs": [],
   "source": []
  },
  {
   "cell_type": "code",
   "execution_count": 10,
   "metadata": {},
   "outputs": [
    {
     "name": "stdout",
     "output_type": "stream",
     "text": [
      "\n",
      "         /-F\n",
      "   /- /-|\n",
      "  |      \\-E\n",
      "--|\n",
      "  |         /-D\n",
      "   \\- /- /-|\n",
      "            \\-H \n",
      "         /-D\n",
      "   /- /-|\n",
      "  |      \\-E\n",
      "--|\n",
      "  |      /-F\n",
      "   \\- /-|\n",
      "         \\-H\n",
      "RF distance is 2 over a total of 2\n",
      "Partitions in tree2 that were not found in tree1: {(('D', 'H'), ('E', 'F'))}\n",
      "Partitions in tree1 that were not found in tree2: {(('D', 'E'), ('F', 'H'))}\n"
     ]
    },
    {
     "ename": "ValueError",
     "evalue": "too many values to unpack (expected 5)",
     "output_type": "error",
     "traceback": [
      "\u001b[0;31m---------------------------------------------------------------------------\u001b[0m",
      "\u001b[0;31mValueError\u001b[0m                                Traceback (most recent call last)",
      "Cell \u001b[0;32mIn[10], line 21\u001b[0m\n\u001b[1;32m     19\u001b[0m t1 \u001b[38;5;241m=\u001b[39m Tree(\u001b[38;5;124m'\u001b[39m\u001b[38;5;124m(((a,b),c), ((e, f), g));\u001b[39m\u001b[38;5;124m'\u001b[39m)\n\u001b[1;32m     20\u001b[0m t2 \u001b[38;5;241m=\u001b[39m Tree(\u001b[38;5;124m'\u001b[39m\u001b[38;5;124m(((a,c),b), (g, H));\u001b[39m\u001b[38;5;124m'\u001b[39m)\n\u001b[0;32m---> 21\u001b[0m rf, max_rf, common_leaves, parts_t1, parts_t2 \u001b[38;5;241m=\u001b[39m t1\u001b[38;5;241m.\u001b[39mrobinson_foulds(t2)\n\u001b[1;32m     23\u001b[0m \u001b[38;5;28mprint\u001b[39m(t1, t2)\n\u001b[1;32m     24\u001b[0m \u001b[38;5;28mprint\u001b[39m(\u001b[38;5;124m\"\u001b[39m\u001b[38;5;124mSame distance holds even for partially overlapping trees\u001b[39m\u001b[38;5;124m\"\u001b[39m)\n",
      "\u001b[0;31mValueError\u001b[0m: too many values to unpack (expected 5)"
     ]
    }
   ],
   "source": [
    "from ete3 import Tree\n",
    "t1 = Tree(\"(((F,E)),(((D,H))));\")\n",
    "t2 = Tree(\"(((D,E)),((F,H)));\")\n",
    "\n",
    "# t1 = Tree('(((a,b),c), ((e, f), g));')\n",
    "# t2 = Tree('(((a,c),b), ((e, f), g));')\n",
    "\n",
    "\n",
    "# t1 = Tree(\"((F,E)C,(D,H)B)A;\")\n",
    "# t2 = Tree(\"((D,E)C,(F,H)B)A;\")\n",
    "rf, max_rf, common_leaves, parts_t1, parts_t2, _, _ = t1.robinson_foulds(t2, unrooted_trees=True)\n",
    "print(t1, t2)\n",
    "print(\"RF distance is %s over a total of %s\" %(rf, max_rf))\n",
    "print(\"Partitions in tree2 that were not found in tree1:\", parts_t1 - parts_t2)\n",
    "print(\"Partitions in tree1 that were not found in tree2:\", parts_t2 - parts_t1)\n",
    "\n",
    "# We can also compare trees sharing only part of their labels\n",
    "\n",
    "t1 = Tree('(((a,b),c), ((e, f), g));')\n",
    "t2 = Tree('(((a,c),b), (g, H));')\n",
    "rf, max_rf, common_leaves, parts_t1, parts_t2 = t1.robinson_foulds(t2)\n",
    "\n",
    "print(t1, t2)\n",
    "print(\"Same distance holds even for partially overlapping trees\")\n",
    "print(\"RF distance is %s over a total of %s\" %(rf, max_rf))\n",
    "print(\"Partitions in tree2 that were not found in tree1:\", parts_t1 - parts_t2)\n",
    "print(\"Partitions in tree1 that were not found in tree2:\", parts_t2 - parts_t1)"
   ]
  },
  {
   "cell_type": "code",
   "execution_count": null,
   "metadata": {},
   "outputs": [],
   "source": []
  },
  {
   "cell_type": "code",
   "execution_count": null,
   "metadata": {},
   "outputs": [],
   "source": []
  },
  {
   "cell_type": "code",
   "execution_count": null,
   "metadata": {},
   "outputs": [],
   "source": []
  },
  {
   "cell_type": "code",
   "execution_count": null,
   "metadata": {},
   "outputs": [],
   "source": []
  }
 ],
 "metadata": {
  "kernelspec": {
   "display_name": "venv",
   "language": "python",
   "name": "python3"
  },
  "language_info": {
   "codemirror_mode": {
    "name": "ipython",
    "version": 3
   },
   "file_extension": ".py",
   "mimetype": "text/x-python",
   "name": "python",
   "nbconvert_exporter": "python",
   "pygments_lexer": "ipython3",
   "version": "3.12.7"
  }
 },
 "nbformat": 4,
 "nbformat_minor": 2
}
